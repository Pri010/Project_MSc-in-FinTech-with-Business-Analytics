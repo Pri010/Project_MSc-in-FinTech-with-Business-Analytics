{
 "cells": [
  {
   "cell_type": "code",
   "execution_count": 4,
   "id": "ec1a4be9",
   "metadata": {},
   "outputs": [],
   "source": [
    "import pandas as pd\n",
    "import numpy as np\n",
    "import matplotlib.pyplot as plt\n",
    "import datetime as dt\n",
    "import yfinance as yf\n",
    "from arch import arch_model\n",
    "import scipy.stats as stats\n",
    "import statsmodels.formula.api as smf\n",
    "import statsmodels.stats.api as sms\n",
    "from statsmodels.stats.diagnostic import het_white\n",
    "from statsmodels.compat import lzip \n",
    "import statsmodels.api as sm\n",
    "import warnings\n",
    "warnings.filterwarnings(\"ignore\")"
   ]
  },
  {
   "cell_type": "code",
   "execution_count": 8,
   "id": "6acfaf5c",
   "metadata": {},
   "outputs": [
    {
     "name": "stdout",
     "output_type": "stream",
     "text": [
      "[*********************100%***********************]  7 of 7 completed\n"
     ]
    }
   ],
   "source": [
    "DATA = yf.download('BTC-USD ETH-USD USDT-USD ^IXIC GBP=X EUR=X JPY=X', start='2017-01-01', end='2022-12-31')\n"
   ]
  },
  {
   "cell_type": "code",
   "execution_count": 4,
   "id": "b01b4bc7",
   "metadata": {},
   "outputs": [
    {
     "data": {
      "text/html": [
       "<div>\n",
       "<style scoped>\n",
       "    .dataframe tbody tr th:only-of-type {\n",
       "        vertical-align: middle;\n",
       "    }\n",
       "\n",
       "    .dataframe tbody tr th {\n",
       "        vertical-align: top;\n",
       "    }\n",
       "\n",
       "    .dataframe thead tr th {\n",
       "        text-align: left;\n",
       "    }\n",
       "</style>\n",
       "<table border=\"1\" class=\"dataframe\">\n",
       "  <thead>\n",
       "    <tr>\n",
       "      <th></th>\n",
       "      <th colspan=\"7\" halign=\"left\">Adj Close</th>\n",
       "      <th colspan=\"3\" halign=\"left\">Close</th>\n",
       "      <th>...</th>\n",
       "      <th colspan=\"3\" halign=\"left\">Open</th>\n",
       "      <th colspan=\"7\" halign=\"left\">Volume</th>\n",
       "    </tr>\n",
       "    <tr>\n",
       "      <th></th>\n",
       "      <th>BTC-USD</th>\n",
       "      <th>ETH-USD</th>\n",
       "      <th>EUR=X</th>\n",
       "      <th>GBP=X</th>\n",
       "      <th>JPY=X</th>\n",
       "      <th>USDT-USD</th>\n",
       "      <th>^IXIC</th>\n",
       "      <th>BTC-USD</th>\n",
       "      <th>ETH-USD</th>\n",
       "      <th>EUR=X</th>\n",
       "      <th>...</th>\n",
       "      <th>JPY=X</th>\n",
       "      <th>USDT-USD</th>\n",
       "      <th>^IXIC</th>\n",
       "      <th>BTC-USD</th>\n",
       "      <th>ETH-USD</th>\n",
       "      <th>EUR=X</th>\n",
       "      <th>GBP=X</th>\n",
       "      <th>JPY=X</th>\n",
       "      <th>USDT-USD</th>\n",
       "      <th>^IXIC</th>\n",
       "    </tr>\n",
       "  </thead>\n",
       "  <tbody>\n",
       "    <tr>\n",
       "      <th>count</th>\n",
       "      <td>2190.000000</td>\n",
       "      <td>1878.000000</td>\n",
       "      <td>1562.000000</td>\n",
       "      <td>1562.000000</td>\n",
       "      <td>1562.000000</td>\n",
       "      <td>1878.000000</td>\n",
       "      <td>1510.000000</td>\n",
       "      <td>2190.000000</td>\n",
       "      <td>1878.000000</td>\n",
       "      <td>1562.000000</td>\n",
       "      <td>...</td>\n",
       "      <td>1562.000000</td>\n",
       "      <td>1878.000000</td>\n",
       "      <td>1510.000000</td>\n",
       "      <td>2.190000e+03</td>\n",
       "      <td>1.878000e+03</td>\n",
       "      <td>1562.0</td>\n",
       "      <td>1562.0</td>\n",
       "      <td>1562.0</td>\n",
       "      <td>1.878000e+03</td>\n",
       "      <td>1.510000e+03</td>\n",
       "    </tr>\n",
       "    <tr>\n",
       "      <th>mean</th>\n",
       "      <td>17618.293882</td>\n",
       "      <td>1129.866214</td>\n",
       "      <td>0.883551</td>\n",
       "      <td>0.771339</td>\n",
       "      <td>113.270928</td>\n",
       "      <td>1.001576</td>\n",
       "      <td>9736.818923</td>\n",
       "      <td>17618.293882</td>\n",
       "      <td>1129.866214</td>\n",
       "      <td>0.883551</td>\n",
       "      <td>...</td>\n",
       "      <td>113.271603</td>\n",
       "      <td>1.001574</td>\n",
       "      <td>9737.046250</td>\n",
       "      <td>2.257148e+10</td>\n",
       "      <td>1.290502e+10</td>\n",
       "      <td>0.0</td>\n",
       "      <td>0.0</td>\n",
       "      <td>0.0</td>\n",
       "      <td>4.114296e+10</td>\n",
       "      <td>3.404665e+09</td>\n",
       "    </tr>\n",
       "    <tr>\n",
       "      <th>std</th>\n",
       "      <td>16743.597518</td>\n",
       "      <td>1188.248177</td>\n",
       "      <td>0.047421</td>\n",
       "      <td>0.039212</td>\n",
       "      <td>9.559813</td>\n",
       "      <td>0.005711</td>\n",
       "      <td>2999.062154</td>\n",
       "      <td>16743.597518</td>\n",
       "      <td>1188.248177</td>\n",
       "      <td>0.047421</td>\n",
       "      <td>...</td>\n",
       "      <td>9.558658</td>\n",
       "      <td>0.005760</td>\n",
       "      <td>3001.847406</td>\n",
       "      <td>2.028514e+10</td>\n",
       "      <td>1.078973e+10</td>\n",
       "      <td>0.0</td>\n",
       "      <td>0.0</td>\n",
       "      <td>0.0</td>\n",
       "      <td>3.804720e+10</td>\n",
       "      <td>1.560906e+09</td>\n",
       "    </tr>\n",
       "    <tr>\n",
       "      <th>min</th>\n",
       "      <td>777.757019</td>\n",
       "      <td>84.308296</td>\n",
       "      <td>0.799360</td>\n",
       "      <td>0.697250</td>\n",
       "      <td>102.678001</td>\n",
       "      <td>0.966644</td>\n",
       "      <td>5429.080078</td>\n",
       "      <td>777.757019</td>\n",
       "      <td>84.308296</td>\n",
       "      <td>0.799360</td>\n",
       "      <td>...</td>\n",
       "      <td>102.699997</td>\n",
       "      <td>0.972522</td>\n",
       "      <td>5425.620117</td>\n",
       "      <td>6.085170e+07</td>\n",
       "      <td>6.217330e+08</td>\n",
       "      <td>0.0</td>\n",
       "      <td>0.0</td>\n",
       "      <td>0.0</td>\n",
       "      <td>3.581880e+08</td>\n",
       "      <td>8.721100e+08</td>\n",
       "    </tr>\n",
       "    <tr>\n",
       "      <th>25%</th>\n",
       "      <td>6417.151245</td>\n",
       "      <td>211.273056</td>\n",
       "      <td>0.847800</td>\n",
       "      <td>0.743993</td>\n",
       "      <td>108.361500</td>\n",
       "      <td>0.999980</td>\n",
       "      <td>7300.184814</td>\n",
       "      <td>6417.151245</td>\n",
       "      <td>211.273056</td>\n",
       "      <td>0.847800</td>\n",
       "      <td>...</td>\n",
       "      <td>108.367498</td>\n",
       "      <td>0.999975</td>\n",
       "      <td>7297.034912</td>\n",
       "      <td>5.303117e+09</td>\n",
       "      <td>4.482132e+09</td>\n",
       "      <td>0.0</td>\n",
       "      <td>0.0</td>\n",
       "      <td>0.0</td>\n",
       "      <td>6.940532e+09</td>\n",
       "      <td>2.063400e+09</td>\n",
       "    </tr>\n",
       "    <tr>\n",
       "      <th>50%</th>\n",
       "      <td>9665.131836</td>\n",
       "      <td>502.186005</td>\n",
       "      <td>0.880615</td>\n",
       "      <td>0.767675</td>\n",
       "      <td>110.394001</td>\n",
       "      <td>1.000474</td>\n",
       "      <td>8520.259766</td>\n",
       "      <td>9665.131836</td>\n",
       "      <td>502.186005</td>\n",
       "      <td>0.880615</td>\n",
       "      <td>...</td>\n",
       "      <td>110.393497</td>\n",
       "      <td>1.000499</td>\n",
       "      <td>8475.090332</td>\n",
       "      <td>1.975268e+10</td>\n",
       "      <td>1.063680e+10</td>\n",
       "      <td>0.0</td>\n",
       "      <td>0.0</td>\n",
       "      <td>0.0</td>\n",
       "      <td>3.513653e+10</td>\n",
       "      <td>2.770050e+09</td>\n",
       "    </tr>\n",
       "    <tr>\n",
       "      <th>75%</th>\n",
       "      <td>23716.013672</td>\n",
       "      <td>1776.031830</td>\n",
       "      <td>0.907700</td>\n",
       "      <td>0.795390</td>\n",
       "      <td>113.408752</td>\n",
       "      <td>1.002481</td>\n",
       "      <td>12337.872559</td>\n",
       "      <td>23716.013672</td>\n",
       "      <td>1776.031830</td>\n",
       "      <td>0.907700</td>\n",
       "      <td>...</td>\n",
       "      <td>113.404499</td>\n",
       "      <td>1.002505</td>\n",
       "      <td>12287.189941</td>\n",
       "      <td>3.318129e+10</td>\n",
       "      <td>1.819766e+10</td>\n",
       "      <td>0.0</td>\n",
       "      <td>0.0</td>\n",
       "      <td>0.0</td>\n",
       "      <td>6.046316e+10</td>\n",
       "      <td>4.536770e+09</td>\n",
       "    </tr>\n",
       "    <tr>\n",
       "      <th>max</th>\n",
       "      <td>67566.828125</td>\n",
       "      <td>4812.087402</td>\n",
       "      <td>1.042080</td>\n",
       "      <td>0.932180</td>\n",
       "      <td>150.175995</td>\n",
       "      <td>1.077880</td>\n",
       "      <td>16057.440430</td>\n",
       "      <td>67566.828125</td>\n",
       "      <td>4812.087402</td>\n",
       "      <td>1.042080</td>\n",
       "      <td>...</td>\n",
       "      <td>150.175995</td>\n",
       "      <td>1.080950</td>\n",
       "      <td>16120.919922</td>\n",
       "      <td>3.509679e+11</td>\n",
       "      <td>8.448291e+10</td>\n",
       "      <td>0.0</td>\n",
       "      <td>0.0</td>\n",
       "      <td>0.0</td>\n",
       "      <td>2.790675e+11</td>\n",
       "      <td>1.162119e+10</td>\n",
       "    </tr>\n",
       "  </tbody>\n",
       "</table>\n",
       "<p>8 rows × 42 columns</p>\n",
       "</div>"
      ],
      "text/plain": [
       "          Adj Close                                                      \\\n",
       "            BTC-USD      ETH-USD        EUR=X        GBP=X        JPY=X   \n",
       "count   2190.000000  1878.000000  1562.000000  1562.000000  1562.000000   \n",
       "mean   17618.293882  1129.866214     0.883551     0.771339   113.270928   \n",
       "std    16743.597518  1188.248177     0.047421     0.039212     9.559813   \n",
       "min      777.757019    84.308296     0.799360     0.697250   102.678001   \n",
       "25%     6417.151245   211.273056     0.847800     0.743993   108.361500   \n",
       "50%     9665.131836   502.186005     0.880615     0.767675   110.394001   \n",
       "75%    23716.013672  1776.031830     0.907700     0.795390   113.408752   \n",
       "max    67566.828125  4812.087402     1.042080     0.932180   150.175995   \n",
       "\n",
       "                                         Close                            ...  \\\n",
       "          USDT-USD         ^IXIC       BTC-USD      ETH-USD        EUR=X  ...   \n",
       "count  1878.000000   1510.000000   2190.000000  1878.000000  1562.000000  ...   \n",
       "mean      1.001576   9736.818923  17618.293882  1129.866214     0.883551  ...   \n",
       "std       0.005711   2999.062154  16743.597518  1188.248177     0.047421  ...   \n",
       "min       0.966644   5429.080078    777.757019    84.308296     0.799360  ...   \n",
       "25%       0.999980   7300.184814   6417.151245   211.273056     0.847800  ...   \n",
       "50%       1.000474   8520.259766   9665.131836   502.186005     0.880615  ...   \n",
       "75%       1.002481  12337.872559  23716.013672  1776.031830     0.907700  ...   \n",
       "max       1.077880  16057.440430  67566.828125  4812.087402     1.042080  ...   \n",
       "\n",
       "              Open                                   Volume                \\\n",
       "             JPY=X     USDT-USD         ^IXIC       BTC-USD       ETH-USD   \n",
       "count  1562.000000  1878.000000   1510.000000  2.190000e+03  1.878000e+03   \n",
       "mean    113.271603     1.001574   9737.046250  2.257148e+10  1.290502e+10   \n",
       "std       9.558658     0.005760   3001.847406  2.028514e+10  1.078973e+10   \n",
       "min     102.699997     0.972522   5425.620117  6.085170e+07  6.217330e+08   \n",
       "25%     108.367498     0.999975   7297.034912  5.303117e+09  4.482132e+09   \n",
       "50%     110.393497     1.000499   8475.090332  1.975268e+10  1.063680e+10   \n",
       "75%     113.404499     1.002505  12287.189941  3.318129e+10  1.819766e+10   \n",
       "max     150.175995     1.080950  16120.919922  3.509679e+11  8.448291e+10   \n",
       "\n",
       "                                                           \n",
       "        EUR=X   GBP=X   JPY=X      USDT-USD         ^IXIC  \n",
       "count  1562.0  1562.0  1562.0  1.878000e+03  1.510000e+03  \n",
       "mean      0.0     0.0     0.0  4.114296e+10  3.404665e+09  \n",
       "std       0.0     0.0     0.0  3.804720e+10  1.560906e+09  \n",
       "min       0.0     0.0     0.0  3.581880e+08  8.721100e+08  \n",
       "25%       0.0     0.0     0.0  6.940532e+09  2.063400e+09  \n",
       "50%       0.0     0.0     0.0  3.513653e+10  2.770050e+09  \n",
       "75%       0.0     0.0     0.0  6.046316e+10  4.536770e+09  \n",
       "max       0.0     0.0     0.0  2.790675e+11  1.162119e+10  \n",
       "\n",
       "[8 rows x 42 columns]"
      ]
     },
     "execution_count": 4,
     "metadata": {},
     "output_type": "execute_result"
    }
   ],
   "source": [
    "DATA.describe()"
   ]
  },
  {
   "cell_type": "code",
   "execution_count": 9,
   "id": "96ce1873",
   "metadata": {
    "scrolled": true
   },
   "outputs": [
    {
     "name": "stdout",
     "output_type": "stream",
     "text": [
      "                 BTC-USD      ETH-USD    EUR=X     GBP=X       JPY=X  \\\n",
      "Date                                                                   \n",
      "2017-01-01    998.325012          NaN      NaN       NaN         NaN   \n",
      "2017-01-02   1021.750000          NaN  0.94994  0.809780  116.794998   \n",
      "2017-01-03   1043.839966          NaN  0.95602  0.814200  117.495003   \n",
      "2017-01-04   1154.729980          NaN  0.95970  0.816620  117.658997   \n",
      "2017-01-05   1013.380005          NaN  0.95230  0.811240  117.112999   \n",
      "...                  ...          ...      ...       ...         ...   \n",
      "2022-12-26  16919.804688  1226.974365  0.93740  0.829187  132.789993   \n",
      "2022-12-27  16717.173828  1212.791626  0.93983  0.827530  132.764008   \n",
      "2022-12-28  16552.572266  1189.986084  0.94010  0.831440  133.485992   \n",
      "2022-12-29  16642.341797  1201.595337  0.94080  0.831360  134.033997   \n",
      "2022-12-30  16602.585938  1199.232788  0.93802  0.829440  132.916000   \n",
      "\n",
      "            USDT-USD         ^IXIC  \n",
      "Date                                \n",
      "2017-01-01       NaN           NaN  \n",
      "2017-01-02       NaN           NaN  \n",
      "2017-01-03       NaN   5429.080078  \n",
      "2017-01-04       NaN   5477.000000  \n",
      "2017-01-05       NaN   5487.939941  \n",
      "...              ...           ...  \n",
      "2022-12-26  0.999995           NaN  \n",
      "2022-12-27  0.999850  10353.230469  \n",
      "2022-12-28  0.999686  10213.290039  \n",
      "2022-12-29  0.999735  10478.089844  \n",
      "2022-12-30  0.999659  10466.480469  \n",
      "\n",
      "[2190 rows x 7 columns]\n"
     ]
    }
   ],
   "source": [
    "# Closing daily Price of  data\n",
    "DATA = DATA['Adj Close'] \n",
    "print (DATA)"
   ]
  },
  {
   "cell_type": "code",
   "execution_count": 6,
   "id": "75aee548",
   "metadata": {},
   "outputs": [
    {
     "data": {
      "image/png": "[encoded data removed]",
      "text/plain": [
       "<Figure size 792x576 with 1 Axes>"
      ]
     },
     "metadata": {
      "needs_background": "light"
     },
     "output_type": "display_data"
    }
   ],
   "source": [
    " # Plot the adjusted close price\n",
    "DATA.plot(figsize=(11, 8))\n",
    "# Define the label for the title of the figure\n",
    "plt.title(\"Adjusted Close Price of Data\" % DATA, fontsize=14)\n",
    "# Define the labels for x-axis and y-axis\n",
    "plt.ylabel('Adj Close Price', fontsize=12)\n",
    "plt.xlabel('Year', fontsize=12)\n",
    "# Plot the grid lines\n",
    "plt.grid(which=\"major\", color='k', linestyle='-.', linewidth=0.5)\n",
    "# Show the plot\n",
    "plt.show()"
   ]
  },
  {
   "cell_type": "code",
   "execution_count": 72,
   "id": "fcbaca58",
   "metadata": {},
   "outputs": [],
   "source": [
    "# It looks like the data may contain non-numeric values, so we need to handle those\n",
    "# One way to do this is to convert all columns to a numeric data type using the pd.to_numeric() function\n",
    "# This function will convert any non-numeric values to NaN (Not a Number)\n",
    "DATA = DATA.apply(pd.to_numeric, errors='coerce')"
   ]
  },
  {
   "cell_type": "code",
   "execution_count": 10,
   "id": "017e5275",
   "metadata": {},
   "outputs": [
    {
     "data": {
      "text/html": [
       "<div>\n",
       "<style scoped>\n",
       "    .dataframe tbody tr th:only-of-type {\n",
       "        vertical-align: middle;\n",
       "    }\n",
       "\n",
       "    .dataframe tbody tr th {\n",
       "        vertical-align: top;\n",
       "    }\n",
       "\n",
       "    .dataframe thead th {\n",
       "        text-align: right;\n",
       "    }\n",
       "</style>\n",
       "<table border=\"1\" class=\"dataframe\">\n",
       "  <thead>\n",
       "    <tr style=\"text-align: right;\">\n",
       "      <th></th>\n",
       "      <th>BTC-USD</th>\n",
       "      <th>ETH-USD</th>\n",
       "      <th>EUR=X</th>\n",
       "      <th>GBP=X</th>\n",
       "      <th>JPY=X</th>\n",
       "      <th>USDT-USD</th>\n",
       "      <th>^IXIC</th>\n",
       "    </tr>\n",
       "    <tr>\n",
       "      <th>Date</th>\n",
       "      <th></th>\n",
       "      <th></th>\n",
       "      <th></th>\n",
       "      <th></th>\n",
       "      <th></th>\n",
       "      <th></th>\n",
       "      <th></th>\n",
       "    </tr>\n",
       "  </thead>\n",
       "  <tbody>\n",
       "    <tr>\n",
       "      <th>2017-11-10</th>\n",
       "      <td>-0.076400</td>\n",
       "      <td>-0.069790</td>\n",
       "      <td>-0.004300</td>\n",
       "      <td>-0.002389</td>\n",
       "      <td>-0.004857</td>\n",
       "      <td>-0.002155</td>\n",
       "      <td>0.000132</td>\n",
       "    </tr>\n",
       "    <tr>\n",
       "      <th>2017-11-14</th>\n",
       "      <td>0.011559</td>\n",
       "      <td>0.063948</td>\n",
       "      <td>-0.000327</td>\n",
       "      <td>-0.000236</td>\n",
       "      <td>-0.000889</td>\n",
       "      <td>-0.002500</td>\n",
       "      <td>-0.002924</td>\n",
       "    </tr>\n",
       "    <tr>\n",
       "      <th>2017-11-15</th>\n",
       "      <td>0.097529</td>\n",
       "      <td>-0.012740</td>\n",
       "      <td>-0.010908</td>\n",
       "      <td>-0.002628</td>\n",
       "      <td>-0.001612</td>\n",
       "      <td>-0.003632</td>\n",
       "      <td>-0.004710</td>\n",
       "    </tr>\n",
       "    <tr>\n",
       "      <th>2017-11-21</th>\n",
       "      <td>-0.015903</td>\n",
       "      <td>-0.017409</td>\n",
       "      <td>-0.000798</td>\n",
       "      <td>-0.003200</td>\n",
       "      <td>0.004568</td>\n",
       "      <td>-0.005879</td>\n",
       "      <td>0.010513</td>\n",
       "    </tr>\n",
       "    <tr>\n",
       "      <th>2017-11-22</th>\n",
       "      <td>0.022334</td>\n",
       "      <td>0.054668</td>\n",
       "      <td>0.000340</td>\n",
       "      <td>-0.000040</td>\n",
       "      <td>-0.001868</td>\n",
       "      <td>0.004111</td>\n",
       "      <td>0.000711</td>\n",
       "    </tr>\n",
       "  </tbody>\n",
       "</table>\n",
       "</div>"
      ],
      "text/plain": [
       "             BTC-USD   ETH-USD     EUR=X     GBP=X     JPY=X  USDT-USD  \\\n",
       "Date                                                                     \n",
       "2017-11-10 -0.076400 -0.069790 -0.004300 -0.002389 -0.004857 -0.002155   \n",
       "2017-11-14  0.011559  0.063948 -0.000327 -0.000236 -0.000889 -0.002500   \n",
       "2017-11-15  0.097529 -0.012740 -0.010908 -0.002628 -0.001612 -0.003632   \n",
       "2017-11-21 -0.015903 -0.017409 -0.000798 -0.003200  0.004568 -0.005879   \n",
       "2017-11-22  0.022334  0.054668  0.000340 -0.000040 -0.001868  0.004111   \n",
       "\n",
       "               ^IXIC  \n",
       "Date                  \n",
       "2017-11-10  0.000132  \n",
       "2017-11-14 -0.002924  \n",
       "2017-11-15 -0.004710  \n",
       "2017-11-21  0.010513  \n",
       "2017-11-22  0.000711  "
      ]
     },
     "execution_count": 10,
     "metadata": {},
     "output_type": "execute_result"
    }
   ],
   "source": [
    "DATA_log_returns = np.log(DATA / DATA.shift(1)).dropna()\n",
    "DATA_log_returns.head()"
   ]
  },
  {
   "cell_type": "code",
   "execution_count": 8,
   "id": "c78b4426",
   "metadata": {},
   "outputs": [
    {
     "data": {
      "text/html": [
       "<div>\n",
       "<style scoped>\n",
       "    .dataframe tbody tr th:only-of-type {\n",
       "        vertical-align: middle;\n",
       "    }\n",
       "\n",
       "    .dataframe tbody tr th {\n",
       "        vertical-align: top;\n",
       "    }\n",
       "\n",
       "    .dataframe thead th {\n",
       "        text-align: right;\n",
       "    }\n",
       "</style>\n",
       "<table border=\"1\" class=\"dataframe\">\n",
       "  <thead>\n",
       "    <tr style=\"text-align: right;\">\n",
       "      <th></th>\n",
       "      <th>BTC-USD</th>\n",
       "      <th>ETH-USD</th>\n",
       "      <th>EUR=X</th>\n",
       "      <th>GBP=X</th>\n",
       "      <th>JPY=X</th>\n",
       "      <th>USDT-USD</th>\n",
       "      <th>^IXIC</th>\n",
       "    </tr>\n",
       "  </thead>\n",
       "  <tbody>\n",
       "    <tr>\n",
       "      <th>count</th>\n",
       "      <td>1008.000000</td>\n",
       "      <td>1008.000000</td>\n",
       "      <td>1008.000000</td>\n",
       "      <td>1008.000000</td>\n",
       "      <td>1008.000000</td>\n",
       "      <td>1008.000000</td>\n",
       "      <td>1008.000000</td>\n",
       "    </tr>\n",
       "    <tr>\n",
       "      <th>mean</th>\n",
       "      <td>0.000382</td>\n",
       "      <td>-0.000242</td>\n",
       "      <td>0.000061</td>\n",
       "      <td>-0.000031</td>\n",
       "      <td>0.000233</td>\n",
       "      <td>0.000060</td>\n",
       "      <td>0.000477</td>\n",
       "    </tr>\n",
       "    <tr>\n",
       "      <th>std</th>\n",
       "      <td>0.043256</td>\n",
       "      <td>0.054675</td>\n",
       "      <td>0.004563</td>\n",
       "      <td>0.005917</td>\n",
       "      <td>0.004954</td>\n",
       "      <td>0.005070</td>\n",
       "      <td>0.015600</td>\n",
       "    </tr>\n",
       "    <tr>\n",
       "      <th>min</th>\n",
       "      <td>-0.464730</td>\n",
       "      <td>-0.550732</td>\n",
       "      <td>-0.017088</td>\n",
       "      <td>-0.030308</td>\n",
       "      <td>-0.037961</td>\n",
       "      <td>-0.052570</td>\n",
       "      <td>-0.099099</td>\n",
       "    </tr>\n",
       "    <tr>\n",
       "      <th>25%</th>\n",
       "      <td>-0.016847</td>\n",
       "      <td>-0.023749</td>\n",
       "      <td>-0.002705</td>\n",
       "      <td>-0.003133</td>\n",
       "      <td>-0.002199</td>\n",
       "      <td>-0.000722</td>\n",
       "      <td>-0.006126</td>\n",
       "    </tr>\n",
       "    <tr>\n",
       "      <th>50%</th>\n",
       "      <td>0.000806</td>\n",
       "      <td>-0.000260</td>\n",
       "      <td>-0.000023</td>\n",
       "      <td>0.000053</td>\n",
       "      <td>0.000322</td>\n",
       "      <td>-0.000003</td>\n",
       "      <td>0.001001</td>\n",
       "    </tr>\n",
       "    <tr>\n",
       "      <th>75%</th>\n",
       "      <td>0.019392</td>\n",
       "      <td>0.028840</td>\n",
       "      <td>0.002666</td>\n",
       "      <td>0.003187</td>\n",
       "      <td>0.003018</td>\n",
       "      <td>0.000848</td>\n",
       "      <td>0.008306</td>\n",
       "    </tr>\n",
       "    <tr>\n",
       "      <th>max</th>\n",
       "      <td>0.225119</td>\n",
       "      <td>0.234741</td>\n",
       "      <td>0.028144</td>\n",
       "      <td>0.041806</td>\n",
       "      <td>0.026689</td>\n",
       "      <td>0.056606</td>\n",
       "      <td>0.089347</td>\n",
       "    </tr>\n",
       "  </tbody>\n",
       "</table>\n",
       "</div>"
      ],
      "text/plain": [
       "           BTC-USD      ETH-USD        EUR=X        GBP=X        JPY=X  \\\n",
       "count  1008.000000  1008.000000  1008.000000  1008.000000  1008.000000   \n",
       "mean      0.000382    -0.000242     0.000061    -0.000031     0.000233   \n",
       "std       0.043256     0.054675     0.004563     0.005917     0.004954   \n",
       "min      -0.464730    -0.550732    -0.017088    -0.030308    -0.037961   \n",
       "25%      -0.016847    -0.023749    -0.002705    -0.003133    -0.002199   \n",
       "50%       0.000806    -0.000260    -0.000023     0.000053     0.000322   \n",
       "75%       0.019392     0.028840     0.002666     0.003187     0.003018   \n",
       "max       0.225119     0.234741     0.028144     0.041806     0.026689   \n",
       "\n",
       "          USDT-USD        ^IXIC  \n",
       "count  1008.000000  1008.000000  \n",
       "mean      0.000060     0.000477  \n",
       "std       0.005070     0.015600  \n",
       "min      -0.052570    -0.099099  \n",
       "25%      -0.000722    -0.006126  \n",
       "50%      -0.000003     0.001001  \n",
       "75%       0.000848     0.008306  \n",
       "max       0.056606     0.089347  "
      ]
     },
     "execution_count": 8,
     "metadata": {},
     "output_type": "execute_result"
    }
   ],
   "source": [
    "DATA_log_returns.describe()"
   ]
  },
  {
   "cell_type": "code",
   "execution_count": 9,
   "id": "64a9f656",
   "metadata": {},
   "outputs": [
    {
     "data": {
      "image/png": "[encoded data removed]",
      "text/plain": [
       "<Figure size 792x576 with 1 Axes>"
      ]
     },
     "metadata": {
      "needs_background": "light"
     },
     "output_type": "display_data"
    }
   ],
   "source": [
    " # Plot the adjusted close price\n",
    "DATA_log_returns.plot(figsize=(11, 8))\n",
    "# Define the label for the title of the figure\n",
    "plt.title(\"Log of Daily Returns\" % DATA, fontsize=14)\n",
    "# Define the labels for x-axis and y-axis\n",
    "plt.ylabel('Log of returns', fontsize=12)\n",
    "plt.xlabel('Year', fontsize=12)\n",
    "# Plot the grid lines\n",
    "plt.grid(which=\"major\", color='k', linestyle='-.', linewidth=0.5)\n",
    "# Show the plot\n",
    "plt.show()"
   ]
  },
  {
   "cell_type": "code",
   "execution_count": 72,
   "id": "2aabf535",
   "metadata": {},
   "outputs": [
    {
     "name": "stdout",
     "output_type": "stream",
     "text": [
      "Skewness:  [-1.09913817 -1.33107652  0.24667042  0.00712084 -0.51693368  0.68775052\n",
      " -0.21891226]\n",
      "Kurtosis:  [14.98524331 12.17719436  2.23363099  4.59501082  6.83616761 48.91257171\n",
      "  4.40398149]\n"
     ]
    }
   ],
   "source": [
    "from scipy.stats import skew, kurtosis\n",
    "print(\"Skewness: \", skew(DATA_log_returns))\n",
    "print(\"Kurtosis: \", kurtosis(DATA_log_returns))"
   ]
  },
  {
   "cell_type": "code",
   "execution_count": 10,
   "id": "1ac0933d",
   "metadata": {},
   "outputs": [
    {
     "name": "stdout",
     "output_type": "stream",
     "text": [
      "           BTC-USD   ETH-USD     EUR=X     GBP=X     JPY=X  USDT-USD     ^IXIC\n",
      "BTC-USD   1.000000  0.812844  0.043795  0.109455  0.027134  0.013104  0.341121\n",
      "ETH-USD   0.812844  1.000000  0.027284  0.093116  0.027928 -0.023542  0.349241\n",
      "EUR=X     0.043795  0.027284  1.000000  0.642300  0.382514  0.028321 -0.000854\n",
      "GBP=X     0.109455  0.093116  0.642300  1.000000  0.303357  0.015991  0.055509\n",
      "JPY=X     0.027134  0.027928  0.382514  0.303357  1.000000  0.006405 -0.006210\n",
      "USDT-USD  0.013104 -0.023542  0.028321  0.015991  0.006405  1.000000 -0.120801\n",
      "^IXIC     0.341121  0.349241 -0.000854  0.055509 -0.006210 -0.120801  1.000000\n"
     ]
    }
   ],
   "source": [
    "Return_Correlation = DATA_log_returns.corr() #calculated to understand portfolio diversification\n",
    "print(Return_Correlation)"
   ]
  },
  {
   "cell_type": "code",
   "execution_count": 11,
   "id": "6996a625",
   "metadata": {},
   "outputs": [
    {
     "data": {
      "image/png": "[encoded data removed]",
      "text/plain": [
       "<Figure size 432x288 with 2 Axes>"
      ]
     },
     "metadata": {
      "needs_background": "light"
     },
     "output_type": "display_data"
    }
   ],
   "source": [
    "import seaborn as sns\n",
    "#plotting correlation heatmap\n",
    "dataplot= sns.heatmap(Return_Correlation,cmap='YlGnBu',annot=True)"
   ]
  },
  {
   "cell_type": "code",
   "execution_count": 78,
   "id": "7158af59",
   "metadata": {},
   "outputs": [
    {
     "name": "stdout",
     "output_type": "stream",
     "text": [
      "   Augmented Dickey-Fuller Results   \n",
      "=====================================\n",
      "Test Statistic                 -9.746\n",
      "P-value                         0.000\n",
      "Lags                               10\n",
      "-------------------------------------\n",
      "\n",
      "Trend: Constant\n",
      "Critical Values: -3.44 (1%), -2.86 (5%), -2.57 (10%)\n",
      "Null Hypothesis: The process contains a unit root.\n",
      "Alternative Hypothesis: The process is weakly stationary.\n"
     ]
    }
   ],
   "source": [
    "# Testing for the presence of unit root using ADF test of BTC Return\n",
    "from arch.unitroot import DFGLS, ADF, KPSS, PhillipsPerron\n",
    "\n",
    "# test levels\n",
    "USDT_test=ADF(DATA_log_returns['BTC-USD'], lags=10)\n",
    "print(USDT_test.summary())"
   ]
  },
  {
   "cell_type": "code",
   "execution_count": 88,
   "id": "bc401d68",
   "metadata": {},
   "outputs": [
    {
     "name": "stdout",
     "output_type": "stream",
     "text": [
      "     Phillips-Perron Test (Z-tau)    \n",
      "=====================================\n",
      "Test Statistic                -33.424\n",
      "P-value                         0.000\n",
      "Lags                               10\n",
      "-------------------------------------\n",
      "\n",
      "Trend: Constant\n",
      "Critical Values: -3.44 (1%), -2.86 (5%), -2.57 (10%)\n",
      "Null Hypothesis: The process contains a unit root.\n",
      "Alternative Hypothesis: The process is weakly stationary.\n"
     ]
    }
   ],
   "source": [
    "# Testing for the presence of unit root using ADF test of BTC Return\n",
    "from arch.unitroot import DFGLS, ADF, KPSS, PhillipsPerron\n",
    "\n",
    "# test levels\n",
    "USDT_test=PhillipsPerron(DATA_log_returns['BTC-USD'], lags=10)\n",
    "print(USDT_test.summary())"
   ]
  },
  {
   "cell_type": "code",
   "execution_count": 79,
   "id": "36f5a820",
   "metadata": {},
   "outputs": [
    {
     "name": "stdout",
     "output_type": "stream",
     "text": [
      "   Augmented Dickey-Fuller Results   \n",
      "=====================================\n",
      "Test Statistic                 -9.438\n",
      "P-value                         0.000\n",
      "Lags                               10\n",
      "-------------------------------------\n",
      "\n",
      "Trend: Constant\n",
      "Critical Values: -3.44 (1%), -2.86 (5%), -2.57 (10%)\n",
      "Null Hypothesis: The process contains a unit root.\n",
      "Alternative Hypothesis: The process is weakly stationary.\n"
     ]
    }
   ],
   "source": [
    "# Testing for the presence of unit root using ADF test of BTC Return\n",
    "from arch.unitroot import DFGLS, ADF, KPSS, PhillipsPerron\n",
    "\n",
    "# test levels\n",
    "USDT_test=ADF(DATA_log_returns['ETH-USD'], lags=10)\n",
    "print(USDT_test.summary())"
   ]
  },
  {
   "cell_type": "code",
   "execution_count": 87,
   "id": "521c5de7",
   "metadata": {},
   "outputs": [
    {
     "name": "stdout",
     "output_type": "stream",
     "text": [
      "     Phillips-Perron Test (Z-tau)    \n",
      "=====================================\n",
      "Test Statistic                -34.059\n",
      "P-value                         0.000\n",
      "Lags                               10\n",
      "-------------------------------------\n",
      "\n",
      "Trend: Constant\n",
      "Critical Values: -3.44 (1%), -2.86 (5%), -2.57 (10%)\n",
      "Null Hypothesis: The process contains a unit root.\n",
      "Alternative Hypothesis: The process is weakly stationary.\n"
     ]
    }
   ],
   "source": [
    "# Testing for the presence of unit root using ADF test of BTC Return\n",
    "from arch.unitroot import DFGLS, ADF, KPSS, PhillipsPerron\n",
    "\n",
    "# test levels\n",
    "USDT_test=PhillipsPerron(DATA_log_returns['ETH-USD'], lags=10)\n",
    "print(USDT_test.summary())"
   ]
  },
  {
   "cell_type": "code",
   "execution_count": 13,
   "id": "605677eb",
   "metadata": {},
   "outputs": [
    {
     "name": "stdout",
     "output_type": "stream",
     "text": [
      "   Augmented Dickey-Fuller Results   \n",
      "=====================================\n",
      "Test Statistic                -11.829\n",
      "P-value                         0.000\n",
      "Lags                               10\n",
      "-------------------------------------\n",
      "\n",
      "Trend: Constant\n",
      "Critical Values: -3.44 (1%), -2.86 (5%), -2.57 (10%)\n",
      "Null Hypothesis: The process contains a unit root.\n",
      "Alternative Hypothesis: The process is weakly stationary.\n"
     ]
    }
   ],
   "source": [
    "# Testing for the presence of unit root using ADF test of BTC Return\n",
    "from arch.unitroot import DFGLS, ADF, KPSS, PhillipsPerron\n",
    "\n",
    "# test levels\n",
    "USDT_test=ADF(DATA_log_returns['USDT-USD'], lags=10)\n",
    "print(USDT_test.summary())"
   ]
  },
  {
   "cell_type": "code",
   "execution_count": 86,
   "id": "fc59914e",
   "metadata": {},
   "outputs": [
    {
     "name": "stdout",
     "output_type": "stream",
     "text": [
      "     Phillips-Perron Test (Z-tau)    \n",
      "=====================================\n",
      "Test Statistic                -53.665\n",
      "P-value                         0.000\n",
      "Lags                               10\n",
      "-------------------------------------\n",
      "\n",
      "Trend: Constant\n",
      "Critical Values: -3.44 (1%), -2.86 (5%), -2.57 (10%)\n",
      "Null Hypothesis: The process contains a unit root.\n",
      "Alternative Hypothesis: The process is weakly stationary.\n"
     ]
    }
   ],
   "source": [
    "# Testing for the presence of unit root using ADF test of BTC Return\n",
    "from arch.unitroot import DFGLS, ADF, KPSS, PhillipsPerron\n",
    "\n",
    "# test levels\n",
    "USDT_test=PhillipsPerron(DATA_log_returns['USDT-USD'], lags=10)\n",
    "print(USDT_test.summary())"
   ]
  },
  {
   "cell_type": "code",
   "execution_count": 15,
   "id": "92b352cd",
   "metadata": {},
   "outputs": [
    {
     "name": "stdout",
     "output_type": "stream",
     "text": [
      "   Augmented Dickey-Fuller Results   \n",
      "=====================================\n",
      "Test Statistic                 -9.939\n",
      "P-value                         0.000\n",
      "Lags                               10\n",
      "-------------------------------------\n",
      "\n",
      "Trend: Constant\n",
      "Critical Values: -3.44 (1%), -2.86 (5%), -2.57 (10%)\n",
      "Null Hypothesis: The process contains a unit root.\n",
      "Alternative Hypothesis: The process is weakly stationary.\n"
     ]
    }
   ],
   "source": [
    "# Testing for the presence of unit root using ADF test of BTC Return\n",
    "from arch.unitroot import DFGLS, ADF, KPSS, PhillipsPerron\n",
    "\n",
    "# test levels\n",
    "EURO_test=ADF(DATA_log_returns['EUR=X'], lags=10)\n",
    "print(EURO_test.summary())"
   ]
  },
  {
   "cell_type": "code",
   "execution_count": 85,
   "id": "14a23a60",
   "metadata": {},
   "outputs": [
    {
     "name": "stdout",
     "output_type": "stream",
     "text": [
      "     Phillips-Perron Test (Z-tau)    \n",
      "=====================================\n",
      "Test Statistic                -31.968\n",
      "P-value                         0.000\n",
      "Lags                               10\n",
      "-------------------------------------\n",
      "\n",
      "Trend: Constant\n",
      "Critical Values: -3.44 (1%), -2.86 (5%), -2.57 (10%)\n",
      "Null Hypothesis: The process contains a unit root.\n",
      "Alternative Hypothesis: The process is weakly stationary.\n"
     ]
    }
   ],
   "source": [
    "# Testing for the presence of unit root using ADF test of BTC Return\n",
    "from arch.unitroot import DFGLS, ADF, KPSS, PhillipsPerron\n",
    "\n",
    "# test levels\n",
    "EURO_test=PhillipsPerron(DATA_log_returns['EUR=X'], lags=10)\n",
    "print(EURO_test.summary())"
   ]
  },
  {
   "cell_type": "code",
   "execution_count": 16,
   "id": "836761e1",
   "metadata": {},
   "outputs": [
    {
     "name": "stdout",
     "output_type": "stream",
     "text": [
      "   Augmented Dickey-Fuller Results   \n",
      "=====================================\n",
      "Test Statistic                 -9.431\n",
      "P-value                         0.000\n",
      "Lags                               10\n",
      "-------------------------------------\n",
      "\n",
      "Trend: Constant\n",
      "Critical Values: -3.44 (1%), -2.86 (5%), -2.57 (10%)\n",
      "Null Hypothesis: The process contains a unit root.\n",
      "Alternative Hypothesis: The process is weakly stationary.\n"
     ]
    }
   ],
   "source": [
    "# Testing for the presence of unit root using ADF test of BTC Return\n",
    "from arch.unitroot import DFGLS, ADF, KPSS, PhillipsPerron\n",
    "\n",
    "# test levels\n",
    "JPY_test=ADF(DATA_log_returns['JPY=X'], lags=10)\n",
    "print(JPY_test.summary())"
   ]
  },
  {
   "cell_type": "code",
   "execution_count": 83,
   "id": "d7f5ec3e",
   "metadata": {},
   "outputs": [
    {
     "name": "stdout",
     "output_type": "stream",
     "text": [
      "     Phillips-Perron Test (Z-tau)    \n",
      "=====================================\n",
      "Test Statistic                -33.468\n",
      "P-value                         0.000\n",
      "Lags                               10\n",
      "-------------------------------------\n",
      "\n",
      "Trend: Constant\n",
      "Critical Values: -3.44 (1%), -2.86 (5%), -2.57 (10%)\n",
      "Null Hypothesis: The process contains a unit root.\n",
      "Alternative Hypothesis: The process is weakly stationary.\n"
     ]
    }
   ],
   "source": [
    "# Testing for the presence of unit root using ADF test of BTC Return\n",
    "from arch.unitroot import DFGLS, ADF, KPSS, PhillipsPerron\n",
    "\n",
    "# test levels\n",
    "JPY_test=PhillipsPerron(DATA_log_returns['JPY=X'], lags=10)\n",
    "print(JPY_test.summary())"
   ]
  },
  {
   "cell_type": "code",
   "execution_count": 17,
   "id": "bb462eb2",
   "metadata": {},
   "outputs": [
    {
     "name": "stdout",
     "output_type": "stream",
     "text": [
      "   Augmented Dickey-Fuller Results   \n",
      "=====================================\n",
      "Test Statistic                -10.332\n",
      "P-value                         0.000\n",
      "Lags                               10\n",
      "-------------------------------------\n",
      "\n",
      "Trend: Constant\n",
      "Critical Values: -3.44 (1%), -2.86 (5%), -2.57 (10%)\n",
      "Null Hypothesis: The process contains a unit root.\n",
      "Alternative Hypothesis: The process is weakly stationary.\n"
     ]
    }
   ],
   "source": [
    "# Testing for the presence of unit root using ADF test of BTC Return\n",
    "from arch.unitroot import DFGLS, ADF, KPSS, PhillipsPerron\n",
    "\n",
    "# test levels\n",
    "GBP_test=ADF(DATA_log_returns['GBP=X'], lags=10)\n",
    "print(GBP_test.summary())"
   ]
  },
  {
   "cell_type": "code",
   "execution_count": 82,
   "id": "ec832dce",
   "metadata": {},
   "outputs": [
    {
     "name": "stdout",
     "output_type": "stream",
     "text": [
      "     Phillips-Perron Test (Z-tau)    \n",
      "=====================================\n",
      "Test Statistic                -31.091\n",
      "P-value                         0.000\n",
      "Lags                               10\n",
      "-------------------------------------\n",
      "\n",
      "Trend: Constant\n",
      "Critical Values: -3.44 (1%), -2.86 (5%), -2.57 (10%)\n",
      "Null Hypothesis: The process contains a unit root.\n",
      "Alternative Hypothesis: The process is weakly stationary.\n"
     ]
    }
   ],
   "source": [
    "# Testing for the presence of unit root using ADF test of BTC Return\n",
    "from arch.unitroot import DFGLS, ADF, KPSS, PhillipsPerron\n",
    "\n",
    "# test levels\n",
    "GBP_test=PhillipsPerron(DATA_log_returns['GBP=X'], lags=10)\n",
    "print(GBP_test.summary())"
   ]
  },
  {
   "cell_type": "code",
   "execution_count": 80,
   "id": "0c514cdc",
   "metadata": {},
   "outputs": [
    {
     "name": "stdout",
     "output_type": "stream",
     "text": [
      "   Augmented Dickey-Fuller Results   \n",
      "=====================================\n",
      "Test Statistic                 -8.967\n",
      "P-value                         0.000\n",
      "Lags                               10\n",
      "-------------------------------------\n",
      "\n",
      "Trend: Constant\n",
      "Critical Values: -3.44 (1%), -2.86 (5%), -2.57 (10%)\n",
      "Null Hypothesis: The process contains a unit root.\n",
      "Alternative Hypothesis: The process is weakly stationary.\n"
     ]
    }
   ],
   "source": [
    "# Testing for the presence of unit root using ADF test of BTC Return\n",
    "from arch.unitroot import DFGLS, ADF, KPSS, PhillipsPerron\n",
    "\n",
    "# test levels\n",
    "USDT_test=ADF(DATA_log_returns['^IXIC'], lags=10)\n",
    "print(USDT_test.summary())"
   ]
  },
  {
   "cell_type": "code",
   "execution_count": 81,
   "id": "94dd7a4c",
   "metadata": {},
   "outputs": [
    {
     "name": "stdout",
     "output_type": "stream",
     "text": [
      "     Phillips-Perron Test (Z-tau)    \n",
      "=====================================\n",
      "Test Statistic                -35.950\n",
      "P-value                         0.000\n",
      "Lags                               10\n",
      "-------------------------------------\n",
      "\n",
      "Trend: Constant\n",
      "Critical Values: -3.44 (1%), -2.86 (5%), -2.57 (10%)\n",
      "Null Hypothesis: The process contains a unit root.\n",
      "Alternative Hypothesis: The process is weakly stationary.\n"
     ]
    }
   ],
   "source": [
    "# Testing for the presence of unit root using ADF test of BTC Return\n",
    "from arch.unitroot import DFGLS, ADF, KPSS, PhillipsPerron\n",
    "\n",
    "# test levels\n",
    "USDT_test=PhillipsPerron(DATA_log_returns['^IXIC'], lags=10)\n",
    "print(USDT_test.summary())"
   ]
  },
  {
   "cell_type": "code",
   "execution_count": 75,
   "id": "7d01eb86",
   "metadata": {},
   "outputs": [
    {
     "name": "stdout",
     "output_type": "stream",
     "text": [
      "Correlation coefficient: 0.341\n",
      "P-value: 0.000\n"
     ]
    }
   ],
   "source": [
    "from scipy.stats import pearsonr, kendalltau\n",
    "\n",
    "# Calculate the correlation coefficient and p-value\n",
    "btc_nasdaq_corr,btc_nasdaq_pvalue = pearsonr(DATA_log_returns['BTC-USD'], DATA_log_returns['^IXIC'])\n",
    "\n",
    "# Print the correlation coefficient and p-value\n",
    "print(f'Correlation coefficient: {btc_nasdaq_corr:.3f}')\n",
    "print(f'P-value: {btc_nasdaq_pvalue:.3f}')"
   ]
  },
  {
   "cell_type": "code",
   "execution_count": 76,
   "id": "329c6152",
   "metadata": {},
   "outputs": [
    {
     "name": "stdout",
     "output_type": "stream",
     "text": [
      "Correlation coefficient: 0.044\n",
      "P-value: 0.165\n"
     ]
    }
   ],
   "source": [
    "from scipy.stats import pearsonr, kendalltau\n",
    "\n",
    "# Calculate the correlation coefficient and p-value\n",
    "btc_euro_corr,btc_euro_pvalue = pearsonr(DATA_log_returns['BTC-USD'], DATA_log_returns['EUR=X'])\n",
    "\n",
    "# Print the correlation coefficient and p-value\n",
    "print(f'Correlation coefficient: {btc_euro_corr:.3f}')\n",
    "print(f'P-value: {btc_euro_pvalue:.3f}')"
   ]
  },
  {
   "cell_type": "code",
   "execution_count": 73,
   "id": "22025b2c",
   "metadata": {},
   "outputs": [
    {
     "name": "stdout",
     "output_type": "stream",
     "text": [
      "Correlation coefficient: 0.109\n",
      "P-value: 0.000\n"
     ]
    }
   ],
   "source": [
    "from scipy.stats import pearsonr, kendalltau\n",
    "\n",
    "# Calculate the correlation coefficient and p-value\n",
    "btc_gbp_corr,btc_gbp_pvalue = pearsonr(DATA_log_returns['BTC-USD'], DATA_log_returns['GBP=X'])\n",
    "\n",
    "# Print the correlation coefficient and p-value\n",
    "print(f'Correlation coefficient: {btc_gbp_corr:.3f}')\n",
    "print(f'P-value: {btc_gbp_pvalue:.3f}')"
   ]
  },
  {
   "cell_type": "code",
   "execution_count": 74,
   "id": "da2427c4",
   "metadata": {},
   "outputs": [
    {
     "name": "stdout",
     "output_type": "stream",
     "text": [
      "Correlation coefficient: 0.027\n",
      "P-value: 0.389\n"
     ]
    }
   ],
   "source": [
    "from scipy.stats import pearsonr, kendalltau\n",
    "\n",
    "# Calculate the correlation coefficient and p-value\n",
    "btc_jpy_corr,btc_jpy_pvalue = pearsonr(DATA_log_returns['BTC-USD'], DATA_log_returns['JPY=X'])\n",
    "\n",
    "# Print the correlation coefficient and p-value\n",
    "print(f'Correlation coefficient: {btc_jpy_corr:.3f}')\n",
    "print(f'P-value: {btc_jpy_pvalue:.3f}')"
   ]
  },
  {
   "cell_type": "code",
   "execution_count": 23,
   "id": "80540cd1",
   "metadata": {},
   "outputs": [
    {
     "name": "stdout",
     "output_type": "stream",
     "text": [
      "Correlation coefficient: 0.349\n",
      "P-value: 0.000\n"
     ]
    }
   ],
   "source": [
    "from scipy.stats import pearsonr, kendalltau\n",
    "\n",
    "# Calculate the correlation coefficient and p-value\n",
    "btc_nasdaq_corr,btc_nasdaq_pvalue = pearsonr(DATA_log_returns['ETH-USD'], DATA_log_returns['^IXIC'])\n",
    "\n",
    "# Print the correlation coefficient and p-value\n",
    "print(f'Correlation coefficient: {btc_nasdaq_corr:.3f}')\n",
    "print(f'P-value: {btc_nasdaq_pvalue:.3f}')"
   ]
  },
  {
   "cell_type": "code",
   "execution_count": 24,
   "id": "24abb2c9",
   "metadata": {},
   "outputs": [
    {
     "name": "stdout",
     "output_type": "stream",
     "text": [
      "Correlation coefficient: 0.027\n",
      "P-value: 0.387\n"
     ]
    }
   ],
   "source": [
    "from scipy.stats import pearsonr, kendalltau\n",
    "\n",
    "# Calculate the correlation coefficient and p-value\n",
    "btc_nasdaq_corr,btc_nasdaq_pvalue = pearsonr(DATA_log_returns['ETH-USD'], DATA_log_returns['EUR=X'])\n",
    "\n",
    "# Print the correlation coefficient and p-value\n",
    "print(f'Correlation coefficient: {btc_nasdaq_corr:.3f}')\n",
    "print(f'P-value: {btc_nasdaq_pvalue:.3f}')"
   ]
  },
  {
   "cell_type": "code",
   "execution_count": 25,
   "id": "a31d5d09",
   "metadata": {},
   "outputs": [
    {
     "name": "stdout",
     "output_type": "stream",
     "text": [
      "Correlation coefficient: 0.093\n",
      "P-value: 0.003\n"
     ]
    }
   ],
   "source": [
    "from scipy.stats import pearsonr, kendalltau\n",
    "\n",
    "# Calculate the correlation coefficient and p-value\n",
    "btc_nasdaq_corr,btc_nasdaq_pvalue = pearsonr(DATA_log_returns['ETH-USD'], DATA_log_returns['GBP=X'])\n",
    "\n",
    "# Print the correlation coefficient and p-value\n",
    "print(f'Correlation coefficient: {btc_nasdaq_corr:.3f}')\n",
    "print(f'P-value: {btc_nasdaq_pvalue:.3f}')"
   ]
  },
  {
   "cell_type": "code",
   "execution_count": 26,
   "id": "a1ac7e72",
   "metadata": {},
   "outputs": [
    {
     "name": "stdout",
     "output_type": "stream",
     "text": [
      "Correlation coefficient: 0.028\n",
      "P-value: 0.376\n"
     ]
    }
   ],
   "source": [
    "from scipy.stats import pearsonr, kendalltau\n",
    "\n",
    "# Calculate the correlation coefficient and p-value\n",
    "btc_nasdaq_corr,btc_nasdaq_pvalue = pearsonr(DATA_log_returns['ETH-USD'], DATA_log_returns['JPY=X'])\n",
    "\n",
    "# Print the correlation coefficient and p-value\n",
    "print(f'Correlation coefficient: {btc_nasdaq_corr:.3f}')\n",
    "print(f'P-value: {btc_nasdaq_pvalue:.3f}')"
   ]
  },
  {
   "cell_type": "code",
   "execution_count": 77,
   "id": "5c065ced",
   "metadata": {},
   "outputs": [
    {
     "name": "stdout",
     "output_type": "stream",
     "text": [
      "Correlation coefficient: -0.121\n",
      "P-value: 0.000\n"
     ]
    }
   ],
   "source": [
    "from scipy.stats import pearsonr, kendalltau\n",
    "\n",
    "# Calculate the correlation coefficient and p-value\n",
    "usdt_nasdaq_corr,usdt_nasdaq_pvalue = pearsonr(DATA_log_returns['USDT-USD'], DATA_log_returns['^IXIC'])\n",
    "\n",
    "# Print the correlation coefficient and p-value\n",
    "print(f'Correlation coefficient: {usdt_nasdaq_corr:.3f}')\n",
    "print(f'P-value: {usdt_nasdaq_pvalue:.3f}')"
   ]
  },
  {
   "cell_type": "code",
   "execution_count": 28,
   "id": "60a97111",
   "metadata": {},
   "outputs": [
    {
     "name": "stdout",
     "output_type": "stream",
     "text": [
      "Correlation coefficient: 0.028\n",
      "P-value: 0.369\n"
     ]
    }
   ],
   "source": [
    "from scipy.stats import pearsonr, kendalltau\n",
    "\n",
    "# Calculate the correlation coefficient and p-value\n",
    "btc_nasdaq_corr,btc_nasdaq_pvalue = pearsonr(DATA_log_returns['USDT-USD'], DATA_log_returns['EUR=X'])\n",
    "\n",
    "# Print the correlation coefficient and p-value\n",
    "print(f'Correlation coefficient: {btc_nasdaq_corr:.3f}')\n",
    "print(f'P-value: {btc_nasdaq_pvalue:.3f}')"
   ]
  },
  {
   "cell_type": "code",
   "execution_count": 29,
   "id": "fb534d2f",
   "metadata": {},
   "outputs": [
    {
     "name": "stdout",
     "output_type": "stream",
     "text": [
      "Correlation coefficient: 0.016\n",
      "P-value: 0.612\n"
     ]
    }
   ],
   "source": [
    "from scipy.stats import pearsonr, kendalltau\n",
    "\n",
    "# Calculate the correlation coefficient and p-value\n",
    "btc_nasdaq_corr,btc_nasdaq_pvalue = pearsonr(DATA_log_returns['USDT-USD'], DATA_log_returns['GBP=X'])\n",
    "\n",
    "# Print the correlation coefficient and p-value\n",
    "print(f'Correlation coefficient: {btc_nasdaq_corr:.3f}')\n",
    "print(f'P-value: {btc_nasdaq_pvalue:.3f}')"
   ]
  },
  {
   "cell_type": "code",
   "execution_count": 30,
   "id": "4115de95",
   "metadata": {},
   "outputs": [
    {
     "name": "stdout",
     "output_type": "stream",
     "text": [
      "Correlation coefficient: 0.006\n",
      "P-value: 0.839\n"
     ]
    }
   ],
   "source": [
    "from scipy.stats import pearsonr, kendalltau\n",
    "\n",
    "# Calculate the correlation coefficient and p-value\n",
    "btc_nasdaq_corr,btc_nasdaq_pvalue = pearsonr(DATA_log_returns['USDT-USD'], DATA_log_returns['JPY=X'])\n",
    "\n",
    "# Print the correlation coefficient and p-value\n",
    "print(f'Correlation coefficient: {btc_nasdaq_corr:.3f}')\n",
    "print(f'P-value: {btc_nasdaq_pvalue:.3f}')"
   ]
  },
  {
   "cell_type": "markdown",
   "id": "0904c625",
   "metadata": {},
   "source": [
    "###### AR(1) model including all exogeneous model with Bitcoin Dependent"
   ]
  },
  {
   "cell_type": "code",
   "execution_count": 12,
   "id": "5990118c",
   "metadata": {},
   "outputs": [
    {
     "name": "stdout",
     "output_type": "stream",
     "text": [
      "                            AutoReg Model Results                             \n",
      "==============================================================================\n",
      "Dep. Variable:                ETH-USD   No. Observations:                 1008\n",
      "Model:                   AutoReg-X(1)   Log Likelihood                2052.095\n",
      "Method:               Conditional MLE   S.D. of innovations              0.032\n",
      "Date:                Mon, 23 Jan 2023   AIC                          -4086.190\n",
      "Time:                        16:32:07   BIC                          -4041.957\n",
      "Sample:                             1   HQIC                         -4069.384\n",
      "                                 1008                                         \n",
      "==============================================================================\n",
      "                 coef    std err          z      P>|z|      [0.025      0.975]\n",
      "------------------------------------------------------------------------------\n",
      "const         -0.0008      0.001     -0.757      0.449      -0.003       0.001\n",
      "ETH-USD.L1    -0.0030      0.019     -0.161      0.872      -0.039       0.033\n",
      "GBP=X          0.1000      0.223      0.449      0.654      -0.337       0.537\n",
      "BTC-USD        0.9935      0.025     40.304      0.000       0.945       1.042\n",
      "USDT-USD      -0.2629      0.198     -1.326      0.185      -0.652       0.126\n",
      "EUR=X         -0.2114      0.294     -0.718      0.473      -0.789       0.366\n",
      "JPY=X          0.1173      0.218      0.538      0.590      -0.310       0.544\n",
      "^IXIC          0.2711      0.069      3.950      0.000       0.137       0.406\n",
      "                                    Roots                                    \n",
      "=============================================================================\n",
      "                  Real          Imaginary           Modulus         Frequency\n",
      "-----------------------------------------------------------------------------\n",
      "AR.1         -335.3920           +0.0000j          335.3920            0.5000\n",
      "-----------------------------------------------------------------------------\n"
     ]
    }
   ],
   "source": [
    "from statsmodels.tsa.ar_model import AutoReg\n",
    "\n",
    "# Define the independent and dependent variables\n",
    "X = DATA_log_returns[[\"GBP=X\",\"BTC-USD\", \"USDT-USD\", \"EUR=X\", \"JPY=X\",\"^IXIC\"]]\n",
    "y = DATA_log_returns[\"ETH-USD\"]\n",
    "\n",
    "# Estimate the AR(1) model with exogenous variables\n",
    "model = AutoReg(y, exog=X, lags=1)\n",
    "results = model.fit()\n",
    "\n",
    "# Print the model summary\n",
    "print(results.summary())"
   ]
  },
  {
   "cell_type": "code",
   "execution_count": 13,
   "id": "b897bcdc",
   "metadata": {},
   "outputs": [
    {
     "name": "stdout",
     "output_type": "stream",
     "text": [
      "Iteration:      1,   Func. Count:      6,   Neg. LLF: 2305466400.795961\n",
      "Iteration:      2,   Func. Count:     17,   Neg. LLF: 571370852.3346435\n",
      "Iteration:      3,   Func. Count:     28,   Neg. LLF: 724851.866668257\n",
      "Iteration:      4,   Func. Count:     40,   Neg. LLF: 9927117.520431824\n",
      "Iteration:      5,   Func. Count:     49,   Neg. LLF: 1373385.4636925387\n",
      "Iteration:      6,   Func. Count:     62,   Neg. LLF: 4680309.30994105\n",
      "Iteration:      7,   Func. Count:     72,   Neg. LLF: 2009721815.3289514\n",
      "Iteration:      8,   Func. Count:     83,   Neg. LLF: 3388503926.89187\n",
      "Iteration:      9,   Func. Count:     94,   Neg. LLF: 767449.3052895027\n",
      "Iteration:     10,   Func. Count:    105,   Neg. LLF: 1899483688.6939814\n",
      "Iteration:     11,   Func. Count:    117,   Neg. LLF: 1404405661239628.8\n",
      "Iteration:     12,   Func. Count:    128,   Neg. LLF: -2191.2257895368284\n",
      "Optimization terminated successfully    (Exit mode 0)\n",
      "            Current function value: -2191.2257897960158\n",
      "            Iterations: 16\n",
      "            Function evaluations: 128\n",
      "            Gradient evaluations: 12\n",
      "                           AR - GARCH Model Results                           \n",
      "==============================================================================\n",
      "Dep. Variable:                   None   R-squared:                       0.000\n",
      "Mean Model:                        AR   Adj. R-squared:                  0.000\n",
      "Vol Model:                      GARCH   Log-Likelihood:                2191.23\n",
      "Distribution:                  Normal   AIC:                          -4374.45\n",
      "Method:            Maximum Likelihood   BIC:                          -4354.79\n",
      "                                        No. Observations:                 1007\n",
      "Date:                Mon, Jan 23 2023   Df Residuals:                     1006\n",
      "Time:                        16:32:21   Df Model:                            1\n",
      "                                  Mean Model                                 \n",
      "=============================================================================\n",
      "                 coef    std err          t      P>|t|       95.0% Conf. Int.\n",
      "-----------------------------------------------------------------------------\n",
      "Const      1.2981e-04  8.520e-04      0.152      0.879 [-1.540e-03,1.800e-03]\n",
      "                              Volatility Model                              \n",
      "============================================================================\n",
      "                 coef    std err          t      P>|t|      95.0% Conf. Int.\n",
      "----------------------------------------------------------------------------\n",
      "omega      2.0153e-05  2.128e-06      9.472  2.752e-21 [1.598e-05,2.432e-05]\n",
      "alpha[1]       0.1000  3.629e-02      2.754  5.889e-03   [2.882e-02,  0.171]\n",
      "beta[1]        0.8796  2.526e-02     34.821 1.187e-265     [  0.830,  0.929]\n",
      "============================================================================\n",
      "\n",
      "Covariance estimator: robust\n"
     ]
    }
   ],
   "source": [
    "from arch import arch_model\n",
    "\n",
    "# Estimate the AR(1)-GARCH(1,1) model\n",
    "am = arch_model(results.resid, mean='AR', vol='GARCH', p=1, o=0, q=1, dist='Normal')\n",
    "res = am.fit()\n",
    "#The above code will estimate an ARCH(1) model for the residuals of the AR(1) model, where the mean equation is specified as\n",
    "#\"AR\" and the volatility equation is specified as \"GARCH\". The parameters p,o,q represents the order of the AR, order of the\n",
    "#exogenous variables and order of the GARCH respectively. dist parameter is set to 'Normal' which is the standard assumption \n",
    "#for the distribution of the residuals.\n",
    "\n",
    "# Print the model summary\n",
    "print(res.summary())"
   ]
  },
  {
   "cell_type": "code",
   "execution_count": 14,
   "id": "1ec79687",
   "metadata": {},
   "outputs": [
    {
     "data": {
      "image/png": "[encoded data removed]",
      "text/plain": [
       "<Figure size 432x288 with 2 Axes>"
      ]
     },
     "metadata": {
      "needs_background": "light"
     },
     "output_type": "display_data"
    }
   ],
   "source": [
    "# Plot the residuals\n",
    "import matplotlib.pyplot as plt\n",
    "res.plot()\n",
    "plt.show()"
   ]
  },
  {
   "cell_type": "code",
   "execution_count": 15,
   "id": "47db59b2",
   "metadata": {},
   "outputs": [
    {
     "name": "stdout",
     "output_type": "stream",
     "text": [
      "ARCH-LM Test\n",
      "H0: Residuals are homoskedastic.\n",
      "ARCH-LM Test\n",
      "H1: Residuals are conditionally heteroskedastic.\n",
      "Statistic: 207.4019\n",
      "P-value: 0.0000\n",
      "Distributed: chi2(22)\n"
     ]
    }
   ],
   "source": [
    "from statsmodels.tsa.ar_model import AutoReg\n",
    "from arch import arch_model\n",
    "\n",
    "# Estimate the AR(1) model with exogenous variables\n",
    "model = AutoReg(y, exog=X, lags=1)\n",
    "results = model.fit()\n",
    "\n",
    "# Perform the LM test for ARCH effects\n",
    "am = arch_model(results.resid, mean='AR', vol='Constant', dist='Normal')\n",
    "res = am.fit()\n",
    "print(res.arch_lm_test())"
   ]
  },
  {
   "cell_type": "code",
   "execution_count": 16,
   "id": "8be55e41",
   "metadata": {},
   "outputs": [
    {
     "name": "stdout",
     "output_type": "stream",
     "text": [
      "                            AutoReg Model Results                             \n",
      "==============================================================================\n",
      "Dep. Variable:                ETH-USD   No. Observations:                 1008\n",
      "Model:                   AutoReg-X(1)   Log Likelihood                2042.173\n",
      "Method:               Conditional MLE   S.D. of innovations              0.032\n",
      "Date:                Mon, 23 Jan 2023   AIC                          -4076.345\n",
      "Time:                        16:32:58   BIC                          -4056.686\n",
      "Sample:                             1   HQIC                         -4068.876\n",
      "                                 1008                                         \n",
      "==============================================================================\n",
      "                 coef    std err          z      P>|z|      [0.025      0.975]\n",
      "------------------------------------------------------------------------------\n",
      "const         -0.0006      0.001     -0.643      0.520      -0.003       0.001\n",
      "ETH-USD.L1    -0.0067      0.018     -0.363      0.717      -0.043       0.029\n",
      "BTC-USD        1.0271      0.023     44.069      0.000       0.981       1.073\n",
      "                                    Roots                                    \n",
      "=============================================================================\n",
      "                  Real          Imaginary           Modulus         Frequency\n",
      "-----------------------------------------------------------------------------\n",
      "AR.1         -149.7163           +0.0000j          149.7163            0.5000\n",
      "-----------------------------------------------------------------------------\n"
     ]
    }
   ],
   "source": [
    "from statsmodels.tsa.ar_model import AutoReg\n",
    "\n",
    "# Define the independent and dependent variables\n",
    "X1 = DATA_log_returns[\"BTC-USD\"]\n",
    "y1 = DATA_log_returns[\"ETH-USD\"]\n",
    "\n",
    "# Estimate the AR(1) model with exogenous variables\n",
    "model1 = AutoReg(y1, exog=X1, lags=1)\n",
    "results1 = model1.fit()\n",
    "\n",
    "# Print the model summary\n",
    "print(results1.summary())\n"
   ]
  },
  {
   "cell_type": "code",
   "execution_count": 17,
   "id": "e0d7e2df",
   "metadata": {},
   "outputs": [
    {
     "name": "stdout",
     "output_type": "stream",
     "text": [
      "Iteration:      1,   Func. Count:      6,   Neg. LLF: 2164264660.775427\n",
      "Iteration:      2,   Func. Count:     17,   Neg. LLF: 416149663.1644084\n",
      "Iteration:      3,   Func. Count:     28,   Neg. LLF: 3743825.3796097753\n",
      "Iteration:      4,   Func. Count:     40,   Neg. LLF: 330219.3791516751\n",
      "Iteration:      5,   Func. Count:     49,   Neg. LLF: 22136962571.872105\n",
      "Iteration:      6,   Func. Count:     61,   Neg. LLF: 651235.1227632546\n",
      "Iteration:      7,   Func. Count:     71,   Neg. LLF: 9514825123.42336\n",
      "Iteration:      8,   Func. Count:     82,   Neg. LLF: 767438231367.3478\n",
      "Iteration:      9,   Func. Count:     92,   Neg. LLF: 4017.287887312905\n",
      "Iteration:     10,   Func. Count:    102,   Neg. LLF: 262.77310722847915\n",
      "Iteration:     11,   Func. Count:    111,   Neg. LLF: 1483452.353890385\n",
      "Iteration:     12,   Func. Count:    120,   Neg. LLF: -1972.5869081768974\n",
      "Iteration:     13,   Func. Count:    128,   Neg. LLF: -2125.880030761798\n",
      "Iteration:     14,   Func. Count:    134,   Neg. LLF: -1693.1242483653887\n",
      "Iteration:     15,   Func. Count:    142,   Neg. LLF: -2189.4874431836615\n",
      "Iteration:     16,   Func. Count:    147,   Neg. LLF: -2189.4899435096077\n",
      "Iteration:     17,   Func. Count:    152,   Neg. LLF: -2189.490032211203\n",
      "Iteration:     18,   Func. Count:    157,   Neg. LLF: -2189.4900307064217\n",
      "Optimization terminated successfully    (Exit mode 0)\n",
      "            Current function value: -2189.4900325559165\n",
      "            Iterations: 21\n",
      "            Function evaluations: 158\n",
      "            Gradient evaluations: 18\n",
      "                     Constant Mean - GARCH Model Results                      \n",
      "==============================================================================\n",
      "Dep. Variable:                   None   R-squared:                       0.000\n",
      "Mean Model:             Constant Mean   Adj. R-squared:                  0.000\n",
      "Vol Model:                      GARCH   Log-Likelihood:                2189.49\n",
      "Distribution:                  Normal   AIC:                          -4370.98\n",
      "Method:            Maximum Likelihood   BIC:                          -4351.32\n",
      "                                        No. Observations:                 1007\n",
      "Date:                Mon, Jan 23 2023   Df Residuals:                     1006\n",
      "Time:                        16:34:15   Df Model:                            1\n",
      "                                  Mean Model                                  \n",
      "==============================================================================\n",
      "                  coef    std err          t      P>|t|       95.0% Conf. Int.\n",
      "------------------------------------------------------------------------------\n",
      "mu         -1.0626e-04  8.205e-04     -0.130      0.897 [-1.714e-03,1.502e-03]\n",
      "                              Volatility Model                              \n",
      "============================================================================\n",
      "                 coef    std err          t      P>|t|      95.0% Conf. Int.\n",
      "----------------------------------------------------------------------------\n",
      "omega      4.3379e-05  8.945e-06      4.849  1.239e-06 [2.585e-05,6.091e-05]\n",
      "alpha[1]       0.0829  2.737e-02      3.028  2.460e-03   [2.924e-02,  0.137]\n",
      "beta[1]        0.8596  2.822e-02     30.460 8.903e-204     [  0.804,  0.915]\n",
      "============================================================================\n",
      "\n",
      "Covariance estimator: robust\n"
     ]
    }
   ],
   "source": [
    "# Obtain the residuals from the AR(1) model\n",
    "residuals1 = results1.resid\n",
    "am1 = arch_model(residuals1, p=1,o=0, q=1,)\n",
    "res_garch1 = am1.fit()\n",
    "\n",
    "# Print the summary of the GARCH component of the GARCH(1,1) model\n",
    "print(res_garch1.summary())"
   ]
  },
  {
   "cell_type": "code",
   "execution_count": 18,
   "id": "5cbd13b9",
   "metadata": {},
   "outputs": [
    {
     "data": {
      "image/png": "[encoded data removed]",
      "text/plain": [
       "<Figure size 432x288 with 2 Axes>"
      ]
     },
     "metadata": {
      "needs_background": "light"
     },
     "output_type": "display_data"
    }
   ],
   "source": [
    "fig2 = res_garch1.plot(annualize=\"D\") #generating volatility graphs"
   ]
  },
  {
   "cell_type": "code",
   "execution_count": 19,
   "id": "fb8d13d7",
   "metadata": {},
   "outputs": [],
   "source": [
    "from statsmodels.tsa.ar_model import AutoReg\n",
    "\n",
    "# Define the independent and dependent variables\n",
    "X2 = DATA_log_returns [ \"USDT-USD\"]\n",
    "y2 = DATA_log_returns[\"ETH-USD\"]\n",
    "\n",
    "# Estimate the AR(1) model with exogenous variables\n",
    "model2 = AutoReg(y2, exog=X2, lags=1)\n",
    "results2 = model2.fit()\n",
    "\n"
   ]
  },
  {
   "cell_type": "code",
   "execution_count": 20,
   "id": "e388e043",
   "metadata": {},
   "outputs": [
    {
     "name": "stdout",
     "output_type": "stream",
     "text": [
      "ARCH-LM Test\n",
      "H0: Residuals are homoskedastic.\n",
      "ARCH-LM Test\n",
      "H1: Residuals are conditionally heteroskedastic.\n",
      "Statistic: 11.0812\n",
      "P-value: 0.9736\n",
      "Distributed: chi2(22)\n"
     ]
    }
   ],
   "source": [
    "# Perform the LM test for ARCH effects\n",
    "am2 = arch_model(results2.resid, mean='AR', vol='Constant', dist='Normal')\n",
    "res2 = am2.fit()\n",
    "print(res2.arch_lm_test())\n"
   ]
  },
  {
   "cell_type": "code",
   "execution_count": 21,
   "id": "f4825591",
   "metadata": {},
   "outputs": [
    {
     "name": "stdout",
     "output_type": "stream",
     "text": [
      "Iteration:      1,   Func. Count:      6,   Neg. LLF: 703573.5415955741\n",
      "Iteration:      2,   Func. Count:     17,   Neg. LLF: 545.3556715045524\n",
      "Iteration:      3,   Func. Count:     26,   Neg. LLF: -55.08210949909482\n",
      "Iteration:      4,   Func. Count:     34,   Neg. LLF: 123798921.92806633\n",
      "Iteration:      5,   Func. Count:     44,   Neg. LLF: -1505.3515414477806\n",
      "Optimization terminated successfully    (Exit mode 0)\n",
      "            Current function value: -1505.3515427665702\n",
      "            Iterations: 9\n",
      "            Function evaluations: 44\n",
      "            Gradient evaluations: 5\n",
      "                     Constant Mean - GARCH Model Results                      \n",
      "==============================================================================\n",
      "Dep. Variable:                   None   R-squared:                       0.000\n",
      "Mean Model:             Constant Mean   Adj. R-squared:                  0.000\n",
      "Vol Model:                      GARCH   Log-Likelihood:                1505.35\n",
      "Distribution:                  Normal   AIC:                          -3002.70\n",
      "Method:            Maximum Likelihood   BIC:                          -2983.04\n",
      "                                        No. Observations:                 1007\n",
      "Date:                Mon, Jan 23 2023   Df Residuals:                     1006\n",
      "Time:                        16:34:45   Df Model:                            1\n",
      "                                  Mean Model                                  \n",
      "==============================================================================\n",
      "                  coef    std err          t      P>|t|       95.0% Conf. Int.\n",
      "------------------------------------------------------------------------------\n",
      "mu         -3.6814e-04  1.688e-03     -0.218      0.827 [-3.677e-03,2.940e-03]\n",
      "                               Volatility Model                              \n",
      "=============================================================================\n",
      "                 coef    std err          t      P>|t|       95.0% Conf. Int.\n",
      "-----------------------------------------------------------------------------\n",
      "omega      2.9833e-04  2.980e-04      1.001      0.317 [-2.857e-04,8.823e-04]\n",
      "alpha[1]       0.0108  1.723e-02      0.626      0.531 [-2.298e-02,4.454e-02]\n",
      "beta[1]        0.8893      0.106      8.420  3.770e-17      [  0.682,  1.096]\n",
      "=============================================================================\n",
      "\n",
      "Covariance estimator: robust\n"
     ]
    }
   ],
   "source": [
    "# Obtain the residuals from the AR(1) model\n",
    "residuals2 = results2.resid\n",
    "\n",
    "am = arch_model(residuals2, p=1,o=0, q=1,)\n",
    "res_garch2 = am.fit()\n",
    "\n",
    "# Print the summary of the GARCH component of the GARCH(1,1) model\n",
    "print(res_garch2.summary())"
   ]
  },
  {
   "cell_type": "code",
   "execution_count": 66,
   "id": "309959a2",
   "metadata": {},
   "outputs": [
    {
     "data": {
      "text/plain": [
       "0.0"
      ]
     },
     "execution_count": 66,
     "metadata": {},
     "output_type": "execute_result"
    }
   ],
   "source": [
    "from statsmodels.tsa.adfvalues import mackinnonp\n",
    "# Step 2: Testing unit roots in residuals. Please note the critical values reported\n",
    "# with the test are not suitable for cointegration test.\n",
    "\n",
    "coint = sm.tsa.stattools.adfuller(residuals2, maxlag=10, autolag='aic',regression='c', regresults=True) \n",
    "\n",
    "test=coint[0]\n",
    "\n",
    "# Get approx p-value from a precomputed table (from stattools)\n",
    "pvalue = mackinnonp(test, 'c', N=3) # N=3 refers to the number of variables in the model\n",
    "pvalue\n"
   ]
  },
  {
   "cell_type": "code",
   "execution_count": 22,
   "id": "bdbd386c",
   "metadata": {},
   "outputs": [
    {
     "name": "stdout",
     "output_type": "stream",
     "text": [
      "Iteration:      1,   Func. Count:      6,   Neg. LLF: 2708998.7670947267\n",
      "Iteration:      2,   Func. Count:     17,   Neg. LLF: 2135.835432130705\n",
      "Iteration:      3,   Func. Count:     26,   Neg. LLF: 63457.56875855998\n",
      "Iteration:      4,   Func. Count:     32,   Neg. LLF: -1475.3035776776806\n",
      "Iteration:      5,   Func. Count:     39,   Neg. LLF: -1371.4523201123598\n",
      "Iteration:      6,   Func. Count:     45,   Neg. LLF: -1504.8294092175458\n",
      "Iteration:      7,   Func. Count:     51,   Neg. LLF: -1505.7395251299508\n",
      "Iteration:      8,   Func. Count:     56,   Neg. LLF: -1505.7449592537812\n",
      "Iteration:      9,   Func. Count:     61,   Neg. LLF: -1505.7465545840478\n",
      "Iteration:     10,   Func. Count:     66,   Neg. LLF: -1505.7466996602702\n",
      "Iteration:     11,   Func. Count:     71,   Neg. LLF: -1505.7467030561306\n",
      "Iteration:     12,   Func. Count:     75,   Neg. LLF: -1505.746703055986\n",
      "Optimization terminated successfully    (Exit mode 0)\n",
      "            Current function value: -1505.7467030561306\n",
      "            Iterations: 12\n",
      "            Function evaluations: 75\n",
      "            Gradient evaluations: 12\n",
      "                     Constant Mean - GARCH Model Results                      \n",
      "==============================================================================\n",
      "Dep. Variable:                   None   R-squared:                       0.000\n",
      "Mean Model:             Constant Mean   Adj. R-squared:                  0.000\n",
      "Vol Model:                      GARCH   Log-Likelihood:                1505.75\n",
      "Distribution:                  Normal   AIC:                          -3003.49\n",
      "Method:            Maximum Likelihood   BIC:                          -2983.83\n",
      "                                        No. Observations:                 1007\n",
      "Date:                Mon, Jan 23 2023   Df Residuals:                     1006\n",
      "Time:                        16:35:16   Df Model:                            1\n",
      "                                  Mean Model                                  \n",
      "==============================================================================\n",
      "                  coef    std err          t      P>|t|       95.0% Conf. Int.\n",
      "------------------------------------------------------------------------------\n",
      "mu         -4.4464e-04  1.676e-03     -0.265      0.791 [-3.730e-03,2.841e-03]\n",
      "                               Volatility Model                              \n",
      "=============================================================================\n",
      "                 coef    std err          t      P>|t|       95.0% Conf. Int.\n",
      "-----------------------------------------------------------------------------\n",
      "omega      1.0676e-03  6.957e-04      1.535      0.125 [-2.960e-04,2.431e-03]\n",
      "alpha[1]       0.0363  2.566e-02      1.415      0.157 [-1.398e-02,8.659e-02]\n",
      "beta[1]        0.6037      0.222      2.717  6.586e-03      [  0.168,  1.039]\n",
      "=============================================================================\n",
      "\n",
      "Covariance estimator: robust\n"
     ]
    }
   ],
   "source": [
    "from statsmodels.tsa.ar_model import AutoReg\n",
    "\n",
    "# Define the independent and dependent variables\n",
    "X3 = DATA_log_returns[\"EUR=X\"]\n",
    "y3 = DATA_log_returns[\"ETH-USD\"]\n",
    "\n",
    "# Estimate the AR(1) model with exogenous variables\n",
    "model3 = AutoReg(y3, exog=X3, lags=1)\n",
    "results3 = model3.fit()\n",
    "\n",
    "# Obtain the residuals from the AR(1) model\n",
    "residuals3 = results3.resid\n",
    "\n",
    "am = arch_model(residuals3, p=1,o=0, q=1,)\n",
    "res_garch3 = am.fit()\n",
    "\n",
    "# Print the summary of the GARCH component of the GARCH(1,1) model\n",
    "print(res_garch3.summary())"
   ]
  },
  {
   "cell_type": "code",
   "execution_count": 23,
   "id": "4b8855ae",
   "metadata": {},
   "outputs": [
    {
     "name": "stdout",
     "output_type": "stream",
     "text": [
      "ARCH-LM Test\n",
      "H0: Residuals are homoskedastic.\n",
      "ARCH-LM Test\n",
      "H1: Residuals are conditionally heteroskedastic.\n",
      "Statistic: 9.6650\n",
      "P-value: 0.9891\n",
      "Distributed: chi2(22)\n"
     ]
    }
   ],
   "source": [
    "# Perform the LM test for ARCH effects\n",
    "am3 = arch_model(results3.resid, mean='AR', vol='Constant', dist='Normal')\n",
    "res3 = am3.fit()\n",
    "print(res3.arch_lm_test())"
   ]
  },
  {
   "cell_type": "code",
   "execution_count": 24,
   "id": "139da33c",
   "metadata": {},
   "outputs": [
    {
     "name": "stdout",
     "output_type": "stream",
     "text": [
      "Iteration:      1,   Func. Count:      6,   Neg. LLF: 11188010.032083303\n",
      "Iteration:      2,   Func. Count:     17,   Neg. LLF: -1255.713661817729\n",
      "Iteration:      3,   Func. Count:     24,   Neg. LLF: 2338.6748251718086\n",
      "Iteration:      4,   Func. Count:     33,   Neg. LLF: -580.2866004584897\n",
      "Iteration:      5,   Func. Count:     39,   Neg. LLF: -1570.648318448003\n",
      "Iteration:      6,   Func. Count:     45,   Neg. LLF: -1548.8712866566214\n",
      "Iteration:      7,   Func. Count:     52,   Neg. LLF: -1534.288513698522\n",
      "Iteration:      8,   Func. Count:     58,   Neg. LLF: -1551.4678159696928\n",
      "Iteration:      9,   Func. Count:     65,   Neg. LLF: -1547.6702131213674\n",
      "Iteration:     10,   Func. Count:     71,   Neg. LLF: -1579.899873589743\n",
      "Iteration:     11,   Func. Count:     76,   Neg. LLF: -1579.903107657128\n",
      "Iteration:     12,   Func. Count:     81,   Neg. LLF: -1579.9031539780326\n",
      "Iteration:     13,   Func. Count:     86,   Neg. LLF: -1579.9031554593234\n",
      "Iteration:     14,   Func. Count:     90,   Neg. LLF: -1579.9031554582702\n",
      "Optimization terminated successfully    (Exit mode 0)\n",
      "            Current function value: -1579.9031554593234\n",
      "            Iterations: 14\n",
      "            Function evaluations: 90\n",
      "            Gradient evaluations: 14\n",
      "                     Constant Mean - GARCH Model Results                      \n",
      "==============================================================================\n",
      "Dep. Variable:                   None   R-squared:                       0.000\n",
      "Mean Model:             Constant Mean   Adj. R-squared:                  0.000\n",
      "Vol Model:                      GARCH   Log-Likelihood:                1579.90\n",
      "Distribution:                  Normal   AIC:                          -3151.81\n",
      "Method:            Maximum Likelihood   BIC:                          -3132.15\n",
      "                                        No. Observations:                 1007\n",
      "Date:                Mon, Jan 23 2023   Df Residuals:                     1006\n",
      "Time:                        16:35:50   Df Model:                            1\n",
      "                                  Mean Model                                  \n",
      "==============================================================================\n",
      "                  coef    std err          t      P>|t|       95.0% Conf. Int.\n",
      "------------------------------------------------------------------------------\n",
      "mu         -9.1770e-04  1.785e-03     -0.514      0.607 [-4.416e-03,2.580e-03]\n",
      "                              Volatility Model                              \n",
      "============================================================================\n",
      "                 coef    std err          t      P>|t|      95.0% Conf. Int.\n",
      "----------------------------------------------------------------------------\n",
      "omega      1.7178e-04  6.460e-05      2.659  7.837e-03 [4.516e-05,2.984e-04]\n",
      "alpha[1]       0.0523  3.258e-02      1.605      0.108  [-1.155e-02,  0.116]\n",
      "beta[1]        0.8828  3.600e-02     24.524 8.273e-133     [  0.812,  0.953]\n",
      "============================================================================\n",
      "\n",
      "Covariance estimator: robust\n"
     ]
    }
   ],
   "source": [
    "from statsmodels.tsa.ar_model import AutoReg\n",
    "\n",
    "# Define the independent and dependent variables\n",
    "X4 = DATA_log_returns[ \"^IXIC\"]\n",
    "y4 = DATA_log_returns[\"ETH-USD\"]\n",
    "\n",
    "# Estimate the AR(1) model with exogenous variables\n",
    "model4 = AutoReg(y4, exog=X4, lags=1)\n",
    "results4 = model4.fit()\n",
    "\n",
    "# Obtain the residuals from the AR(1) model\n",
    "residuals4 = results4.resid\n",
    "\n",
    "am = arch_model(residuals4, p=1,o=0, q=1,)\n",
    "res_garch4 = am.fit()\n",
    "\n",
    "# Print the summary of the GARCH component of the GARCH(1,1) model\n",
    "print(res_garch4.summary())"
   ]
  },
  {
   "cell_type": "code",
   "execution_count": 99,
   "id": "36b462e6",
   "metadata": {},
   "outputs": [
    {
     "name": "stdout",
     "output_type": "stream",
     "text": [
      "ARCH-LM Test\n",
      "H0: Residuals are homoskedastic.\n",
      "ARCH-LM Test\n",
      "H1: Residuals are conditionally heteroskedastic.\n",
      "Statistic: 26.2566\n",
      "P-value: 0.2408\n",
      "Distributed: chi2(22)\n"
     ]
    }
   ],
   "source": [
    "# Perform the LM test for ARCH effects\n",
    "am4 = arch_model(results4.resid, mean='AR', vol='Constant', dist='Normal')\n",
    "res4 = am4.fit()\n",
    "print(res4.arch_lm_test())"
   ]
  },
  {
   "cell_type": "code",
   "execution_count": 25,
   "id": "3e8d4cd2",
   "metadata": {},
   "outputs": [
    {
     "name": "stdout",
     "output_type": "stream",
     "text": [
      "Iteration:      1,   Func. Count:      6,   Neg. LLF: 1882593.9754313352\n",
      "Iteration:      2,   Func. Count:     17,   Neg. LLF: 2132.599597713157\n",
      "Iteration:      3,   Func. Count:     26,   Neg. LLF: 9757.35495617399\n",
      "Iteration:      4,   Func. Count:     32,   Neg. LLF: -1504.4475739773582\n",
      "Iteration:      5,   Func. Count:     38,   Neg. LLF: -1507.6238578108337\n",
      "Iteration:      6,   Func. Count:     44,   Neg. LLF: -1507.953150842131\n",
      "Iteration:      7,   Func. Count:     49,   Neg. LLF: -1507.9531546213213\n",
      "Iteration:      8,   Func. Count:     53,   Neg. LLF: -1507.9531546211151\n",
      "Optimization terminated successfully    (Exit mode 0)\n",
      "            Current function value: -1507.9531546213213\n",
      "            Iterations: 8\n",
      "            Function evaluations: 53\n",
      "            Gradient evaluations: 8\n",
      "                     Constant Mean - GARCH Model Results                      \n",
      "==============================================================================\n",
      "Dep. Variable:                   None   R-squared:                       0.000\n",
      "Mean Model:             Constant Mean   Adj. R-squared:                  0.000\n",
      "Vol Model:                      GARCH   Log-Likelihood:                1507.95\n",
      "Distribution:                  Normal   AIC:                          -3007.91\n",
      "Method:            Maximum Likelihood   BIC:                          -2988.25\n",
      "                                        No. Observations:                 1007\n",
      "Date:                Mon, Jan 23 2023   Df Residuals:                     1006\n",
      "Time:                        16:36:17   Df Model:                            1\n",
      "                                  Mean Model                                  \n",
      "==============================================================================\n",
      "                  coef    std err          t      P>|t|       95.0% Conf. Int.\n",
      "------------------------------------------------------------------------------\n",
      "mu         -3.4211e-04  1.669e-03     -0.205      0.838 [-3.613e-03,2.929e-03]\n",
      "                               Volatility Model                              \n",
      "=============================================================================\n",
      "                 coef    std err          t      P>|t|       95.0% Conf. Int.\n",
      "-----------------------------------------------------------------------------\n",
      "omega      1.3023e-03  8.737e-04      1.490      0.136 [-4.102e-04,3.015e-03]\n",
      "alpha[1]       0.0371  2.634e-02      1.408      0.159 [-1.454e-02,8.869e-02]\n",
      "beta[1]        0.5215      0.276      1.892  5.854e-02   [-1.884e-02,  1.062]\n",
      "=============================================================================\n",
      "\n",
      "Covariance estimator: robust\n"
     ]
    }
   ],
   "source": [
    "from statsmodels.tsa.ar_model import AutoReg\n",
    "\n",
    "# Define the independent and dependent variables\n",
    "X5 = DATA_log_returns[\"GBP=X\"]\n",
    "y5 = DATA_log_returns[\"ETH-USD\"]\n",
    "\n",
    "# Estimate the AR(1) model with exogenous variables\n",
    "model5 = AutoReg(y5, exog=X5, lags=1)\n",
    "results5 = model5.fit()\n",
    "\n",
    "# Obtain the residuals from the AR(1) model\n",
    "residuals5 = results5.resid\n",
    "\n",
    "am = arch_model(residuals5, p=1,o=0, q=1,)\n",
    "res_garch5 = am.fit()\n",
    "\n",
    "# Print the summary of the GARCH component of the GARCH(1,1) model\n",
    "print(res_garch5.summary())"
   ]
  },
  {
   "cell_type": "code",
   "execution_count": 101,
   "id": "3262b4ef",
   "metadata": {},
   "outputs": [
    {
     "name": "stdout",
     "output_type": "stream",
     "text": [
      "ARCH-LM Test\n",
      "H0: Residuals are homoskedastic.\n",
      "ARCH-LM Test\n",
      "H1: Residuals are conditionally heteroskedastic.\n",
      "Statistic: 7.6818\n",
      "P-value: 0.9979\n",
      "Distributed: chi2(22)\n"
     ]
    }
   ],
   "source": [
    "# Perform the LM test for ARCH effects\n",
    "am5 = arch_model(results5.resid, mean='AR', vol='Constant', dist='Normal')\n",
    "res5 = am5.fit()\n",
    "print(res5.arch_lm_test())"
   ]
  },
  {
   "cell_type": "code",
   "execution_count": 26,
   "id": "0552ad31",
   "metadata": {},
   "outputs": [
    {
     "name": "stdout",
     "output_type": "stream",
     "text": [
      "Iteration:      1,   Func. Count:      6,   Neg. LLF: 2598207.059353853\n",
      "Iteration:      2,   Func. Count:     17,   Neg. LLF: 2135.7509349713628\n",
      "Iteration:      3,   Func. Count:     26,   Neg. LLF: 85020.82626238646\n",
      "Iteration:      4,   Func. Count:     32,   Neg. LLF: -1476.699466537314\n",
      "Iteration:      5,   Func. Count:     38,   Neg. LLF: -1417.4341844638616\n",
      "Iteration:      6,   Func. Count:     44,   Neg. LLF: -1503.5679046838452\n",
      "Iteration:      7,   Func. Count:     50,   Neg. LLF: -1506.143327719745\n",
      "Iteration:      8,   Func. Count:     55,   Neg. LLF: -1506.1492373155602\n",
      "Iteration:      9,   Func. Count:     60,   Neg. LLF: -1506.1492637440836\n",
      "Iteration:     10,   Func. Count:     64,   Neg. LLF: -1506.1492637438391\n",
      "Optimization terminated successfully    (Exit mode 0)\n",
      "            Current function value: -1506.1492637440836\n",
      "            Iterations: 10\n",
      "            Function evaluations: 64\n",
      "            Gradient evaluations: 10\n",
      "                     Constant Mean - GARCH Model Results                      \n",
      "==============================================================================\n",
      "Dep. Variable:                   None   R-squared:                       0.000\n",
      "Mean Model:             Constant Mean   Adj. R-squared:                  0.000\n",
      "Vol Model:                      GARCH   Log-Likelihood:                1506.15\n",
      "Distribution:                  Normal   AIC:                          -3004.30\n",
      "Method:            Maximum Likelihood   BIC:                          -2984.64\n",
      "                                        No. Observations:                 1007\n",
      "Date:                Mon, Jan 23 2023   Df Residuals:                     1006\n",
      "Time:                        16:36:36   Df Model:                            1\n",
      "                                  Mean Model                                  \n",
      "==============================================================================\n",
      "                  coef    std err          t      P>|t|       95.0% Conf. Int.\n",
      "------------------------------------------------------------------------------\n",
      "mu         -4.5598e-04  1.678e-03     -0.272      0.786 [-3.745e-03,2.833e-03]\n",
      "                               Volatility Model                              \n",
      "=============================================================================\n",
      "                 coef    std err          t      P>|t|       95.0% Conf. Int.\n",
      "-----------------------------------------------------------------------------\n",
      "omega      1.0636e-03  6.889e-04      1.544      0.123 [-2.865e-04,2.414e-03]\n",
      "alpha[1]       0.0388  2.629e-02      1.477      0.140 [-1.270e-02,9.034e-02]\n",
      "beta[1]        0.6026      0.220      2.741  6.128e-03      [  0.172,  1.034]\n",
      "=============================================================================\n",
      "\n",
      "Covariance estimator: robust\n"
     ]
    }
   ],
   "source": [
    "from statsmodels.tsa.ar_model import AutoReg\n",
    "\n",
    "# Define the independent and dependent variables\n",
    "X6 = DATA_log_returns[\"JPY=X\"]\n",
    "y6 = DATA_log_returns[\"ETH-USD\"]\n",
    "\n",
    "# Estimate the AR(1) model with exogenous variables\n",
    "model6 = AutoReg(y6, exog=X6, lags=1)\n",
    "results6 = model6.fit()\n",
    "\n",
    "# Obtain the residuals from the AR(1) model\n",
    "residuals6 = results6.resid\n",
    "\n",
    "am6 = arch_model(residuals6, p=1,o=0, q=1,)\n",
    "res_garch6 = am6.fit()\n",
    "\n",
    "# Print the summary of the GARCH component of the GARCH(1,1) model\n",
    "print(res_garch6.summary())"
   ]
  },
  {
   "cell_type": "code",
   "execution_count": null,
   "id": "2364a1a8",
   "metadata": {},
   "outputs": [],
   "source": [
    "# Perform the LM test for ARCH effects\n",
    "am5 = arch_model(res.resid, mean='AR', vol='Constant', dist='Normal')\n",
    "res5 = am5.fit()\n",
    "print(res5.arch_lm_test())"
   ]
  }
 ],
 "metadata": {
  "kernelspec": {
   "display_name": "Python 3 (ipykernel)",
   "language": "python",
   "name": "python3"
  },
  "language_info": {
   "codemirror_mode": {
    "name": "ipython",
    "version": 3
   },
   "file_extension": ".py",
   "mimetype": "text/x-python",
   "name": "python",
   "nbconvert_exporter": "python",
   "pygments_lexer": "ipython3",
   "version": "3.9.12"
  }
 },
 "nbformat": 4,
 "nbformat_minor": 5
}
